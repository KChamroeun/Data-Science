{
 "cells": [
  {
   "cell_type": "code",
   "execution_count": 3,
   "metadata": {},
   "outputs": [],
   "source": [
    "import numpy as np \n",
    "import pandas as pd \n",
    "from mlxtend.frequent_patterns import apriori, association_rules \n",
    "data = pd.read_excel('Online Retail.xlsx') \n",
    "\n",
    "# Stripping extra spaces in the description \n",
    "data['Description'] = data['Description'].str.strip() \n",
    "  \n",
    "# Dropping the rows without any invoice number \n",
    "data.dropna(axis = 0, subset =['InvoiceNo'], inplace = True) \n",
    "data['InvoiceNo'] = data['InvoiceNo'].astype('str') \n",
    "  \n",
    "# Dropping all transactions which were done on credit \n",
    "data = data[~data['InvoiceNo'].str.contains('C')]\n",
    "\n",
    "basket_France=(data[data['Country']==\"France\"].groupby(['InvoiceNo','Description'])\n",
    "               ['Quantity'].sum().unstack().reset_index().fillna(0).set_index('InvoiceNo'))\n",
    "# Defining the hot encoding function to make the data suitable  \n",
    "# for the concerned libraries \n",
    "#def hot_encode(x): \n",
    " #   if(x<= 0): \n",
    "  #      return 0\n",
    "   # if(x>= 1): \n",
    "    #    return 1\n",
    "  \n",
    "# Encoding the datasets \n",
    "#basket_encoded = basket_France.applymap(hot_encode) \n",
    "#basket_France = basket_encoded \n",
    "  \n",
    "\n",
    "# Building the model \n",
    "#frq_items = apriori(basket_France, min_support = 0.05, use_colnames = True) \n",
    "\n",
    "# Collecting the inferred rules in a dataframe \n",
    "#rules = association_rules(frq_items, metric =\"lift\", min_threshold = 1) \n",
    "#rules = rules.sort_values(['confidence', 'lift'], ascending =[False, False]) \n",
    "#frq_items.to_excel('frequenceitem.xlsx')\n",
    "#rules.to_excel('rule.xlsx')\n",
    "#print(rules.head()) \n",
    "\n",
    "\n",
    "\n",
    "\n",
    "# Transactions done in France \n",
    "#basket_France = (data[data['Country'] ==\"France\"] \n",
    " #         .groupby(['InvoiceNo', 'Description'])['Quantity'] \n",
    "  #        .sum().unstack().reset_index().fillna(0) \n",
    "   #       .set_index('InvoiceNo'))"
   ]
  }
 ],
 "metadata": {
  "kernelspec": {
   "display_name": ".venv",
   "language": "python",
   "name": "python3"
  },
  "language_info": {
   "codemirror_mode": {
    "name": "ipython",
    "version": 3
   },
   "file_extension": ".py",
   "mimetype": "text/x-python",
   "name": "python",
   "nbconvert_exporter": "python",
   "pygments_lexer": "ipython3",
   "version": "3.11.9"
  }
 },
 "nbformat": 4,
 "nbformat_minor": 2
}
